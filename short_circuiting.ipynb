{
 "cells": [
  {
   "cell_type": "code",
   "execution_count": 4,
   "metadata": {},
   "outputs": [
    {
     "name": "stdout",
     "output_type": "stream",
     "text": [
      "6\n",
      "None\n"
     ]
    }
   ],
   "source": [
    "cat = 3\n",
    "def dog():\n",
    " \treturn cat\n",
    "def hog():\n",
    "\tcat = 4\n",
    "\tprint(cat, dog())\n",
    "cat = 5\n",
    "\n",
    "print((lambda dog: print(dog()))(lambda: 6))"
   ]
  },
  {
   "cell_type": "code",
   "execution_count": null,
   "metadata": {},
   "outputs": [
    {
     "data": {
      "text/plain": [
       "2"
      ]
     },
     "execution_count": 2,
     "metadata": {},
     "output_type": "execute_result"
    },
    {
     "ename": "",
     "evalue": "",
     "output_type": "error",
     "traceback": [
      "\u001b[1;31m在当前单元格或上一个单元格中执行代码时 Kernel 崩溃。\n",
      "\u001b[1;31m请查看单元格中的代码，以确定故障的可能原因。\n",
      "\u001b[1;31m单击<a href='https://aka.ms/vscodeJupyterKernelCrash'>此处</a>了解详细信息。\n",
      "\u001b[1;31m有关更多详细信息，请查看 Jupyter <a href='command:jupyter.viewOutput'>log</a>。"
     ]
    }
   ],
   "source": [
    "len([[6, 3, 6, 2], [10, 6, 1, 2]])"
   ]
  },
  {
   "cell_type": "code",
   "execution_count": 3,
   "metadata": {},
   "outputs": [
    {
     "data": {
      "text/plain": [
       "<map at 0x1bb67c7a470>"
      ]
     },
     "execution_count": 3,
     "metadata": {},
     "output_type": "execute_result"
    }
   ],
   "source": [
    "x = 'HOW ARE YOU'\n",
    "t = map(str, list(x))\n",
    "t"
   ]
  },
  {
   "cell_type": "code",
   "execution_count": 9,
   "metadata": {},
   "outputs": [
    {
     "data": {
      "text/plain": [
       "[3, 4, 5, 9, 10, None, None]"
      ]
     },
     "execution_count": 9,
     "metadata": {},
     "output_type": "execute_result"
    }
   ],
   "source": [
    "s = [9, 7, 8]\n",
    "a, b = s, s[:]\n",
    "a.pop()\n",
    "s = [3]\n",
    "s.extend([4, 5])\n",
    "a\n",
    "s.extend([s.append(9), s.append(10)])\n",
    "s"
   ]
  },
  {
   "cell_type": "code",
   "execution_count": null,
   "metadata": {},
   "outputs": [],
   "source": [
    "# 要求：给定硬币面值列表 coins (已排序)，生成所有用这些硬币凑出金额 amount 的组合，\n",
    "# 且组合内硬币按非降序排列（避免重复，如 [1,2] 和 [2,1] 视为同一种组合，只生成其中一个）。\n",
    "''' >>> list(coin_combinations(3, [1, 2]))\n",
    "[[1, 1, 1], [1, 2]]  # 不允许 [2, 1]\n",
    ">>> list(coin_combinations(4, [1, 2, 3]))\n",
    "[[1,1,1,1], [1,1,2], [1,3], [2,2]]\n",
    "'''\n",
    "\n",
    "\n",
    "\n",
    "\n",
    "\n",
    "\n",
    "\n",
    "\n",
    "\n",
    "\n",
    "\n",
    "\n",
    "\n",
    "\n"
   ]
  },
  {
   "cell_type": "code",
   "execution_count": null,
   "metadata": {},
   "outputs": [],
   "source": [
    "def coin_combinations(amount, coins, current_combination=None, start=0):\n",
    "    if current_combination is None:\n",
    "        current_combination = []\n",
    "    if amount == 0:\n",
    "        yield current_combination.copy()\n",
    "        return\n",
    "    for i in range(start, len(coins)):\n",
    "        coin = coins[i]\n",
    "        if coin > amount:\n",
    "            continue\n",
    "        current_combination.append(coin)\n",
    "        yield from coin_combinations(amount - coin, coins, current_combination, i)\n",
    "        current_combination.pop()"
   ]
  },
  {
   "cell_type": "code",
   "execution_count": null,
   "metadata": {},
   "outputs": [],
   "source": [
    "def partitions(n, m):\n",
    "\tif n > 0 and m > 0:\n",
    "\t\tif n == m:\n",
    "\t\t\tyield str(m)\n",
    "\t\tfor p in partitions(n-m, m):\n",
    "\t\t\tyield p + ' + ' + str(m)\n",
    "\t\tyield from partitions(n, m-1)"
   ]
  },
  {
   "cell_type": "code",
   "execution_count": 4,
   "metadata": {},
   "outputs": [
    {
     "name": "stdout",
     "output_type": "stream",
     "text": [
      "None\n"
     ]
    }
   ],
   "source": [
    "s = [6, 7, 8]\n",
    "print(s.append(6))"
   ]
  },
  {
   "cell_type": "code",
   "execution_count": 6,
   "metadata": {},
   "outputs": [
    {
     "name": "stdout",
     "output_type": "stream",
     "text": [
      "6\n",
      "None\n"
     ]
    }
   ],
   "source": [
    "print(print(6))"
   ]
  },
  {
   "cell_type": "code",
   "execution_count": 7,
   "metadata": {},
   "outputs": [
    {
     "name": "stdout",
     "output_type": "stream",
     "text": [
      "8\n"
     ]
    },
    {
     "data": {
      "text/plain": [
       "7"
      ]
     },
     "execution_count": 7,
     "metadata": {},
     "output_type": "execute_result"
    }
   ],
   "source": [
    "def mid(nights):\n",
    "\tdays = 7\n",
    "\tif days or nights:\n",
    "\t\tdays, nights = (days and days + 1), (nights or days)\n",
    "\tprint(days)\n",
    "\treturn nights\n",
    "\n",
    "mid(not 'swift')"
   ]
  },
  {
   "cell_type": "code",
   "execution_count": 8,
   "metadata": {},
   "outputs": [
    {
     "data": {
      "text/plain": [
       "False"
      ]
     },
     "execution_count": 8,
     "metadata": {},
     "output_type": "execute_result"
    }
   ],
   "source": [
    "not 'swift'"
   ]
  },
  {
   "cell_type": "code",
   "execution_count": 2,
   "metadata": {},
   "outputs": [],
   "source": [
    "def square(pow):\n",
    "    y = 2\n",
    "    def\t square(x):\n",
    "        pow(x, y)\n",
    "    return square\n",
    "\n",
    "def is_it(square):\n",
    "    y = 0\n",
    "    square(2)\n",
    "\n",
    "is_it(square(lambda x, y: pow(x, y+1)))"
   ]
  },
  {
   "cell_type": "code",
   "execution_count": 3,
   "metadata": {},
   "outputs": [
    {
     "data": {
      "text/plain": [
       "15"
      ]
     },
     "execution_count": 3,
     "metadata": {},
     "output_type": "execute_result"
    }
   ],
   "source": [
    "x, y, z = 1, 2, 3\n",
    "\n",
    "def switch(x):\n",
    "    z = 4\n",
    "    if x == y:\n",
    "        def which(one):\n",
    "            return x + one\n",
    "    else:\n",
    "        def which(one):\n",
    "            return  x - one\n",
    "    x = which(x)\n",
    "    which(x)\n",
    "    \n",
    "def which(one):\n",
    "    return x * one\n",
    "\n",
    "switch(x + 1)\n",
    "x = 5\n",
    "which(z)"
   ]
  },
  {
   "cell_type": "code",
   "execution_count": 4,
   "metadata": {},
   "outputs": [
    {
     "name": "stdout",
     "output_type": "stream",
     "text": [
      "5 6\n",
      "None\n",
      "1\n",
      "8\n",
      "2 7 None\n"
     ]
    }
   ],
   "source": [
    "def mad(max):\n",
    "\tg = lambda:(print(1) or 2) or (print(3) or 4)\n",
    "\tprint(max(5, 6))\n",
    "\treturn g\n",
    "print(mad(print)(), 7, print(8))"
   ]
  },
  {
   "cell_type": "code",
   "execution_count": 5,
   "metadata": {},
   "outputs": [
    {
     "name": "stdout",
     "output_type": "stream",
     "text": [
      "40 50\n",
      "None\n",
      "10\n",
      "20\n",
      "70\n",
      "None 60 None\n"
     ]
    }
   ],
   "source": [
    "def foo(x):\n",
    "    y = lambda: print(10) or (print(20) and print(30))\n",
    "    print(x(40, 50))\n",
    "    return y\n",
    "\n",
    "print(foo(print)(), 60, print(70))"
   ]
  },
  {
   "cell_type": "code",
   "execution_count": 6,
   "metadata": {},
   "outputs": [
    {
     "name": "stdout",
     "output_type": "stream",
     "text": [
      "500 600\n",
      "None\n",
      "100\n",
      "300\n",
      "800\n",
      "400 700 None\n"
     ]
    }
   ],
   "source": [
    "def bar(z):\n",
    "    w = lambda: (print(100) or 200) and (print(300) or 400)\n",
    "    print(z(500, 600))\n",
    "    return w\n",
    "\n",
    "print(bar(print)(), 700, print(800))"
   ]
  },
  {
   "cell_type": "code",
   "execution_count": null,
   "metadata": {},
   "outputs": [],
   "source": [
    "e = 40\n",
    "def glob(e):\n",
    "\tprint(e)\n",
    "\te = e + 1\n",
    "\treturn e\n",
    "\n",
    "def mid(nights):\n",
    "\tdays = 7\n",
    "\tif days or nights:\n",
    "\t\tdays, nights = (days and days + 1), (nights or days)\n",
    "\tprint(days)\n",
    "\treturn nights\n",
    "\n",
    "def special(f, x):\n",
    "\treturn f(x) + f(x)"
   ]
  },
  {
   "cell_type": "code",
   "execution_count": 7,
   "metadata": {},
   "outputs": [
    {
     "data": {
      "text/plain": [
       "25"
      ]
     },
     "execution_count": 7,
     "metadata": {},
     "output_type": "execute_result"
    }
   ],
   "source": [
    "def square(x):\n",
    "    return x * x\n",
    "\n",
    "def make_adder(n):\n",
    "    def adder(k):\n",
    "        return k+n\n",
    "    return adder\n",
    "\n",
    "def compose1(f, g):\n",
    "    def h(x):\n",
    "        return f(g(x))\n",
    "    return h\n",
    "\n",
    "compose1(square, make_adder(2))(3)"
   ]
  },
  {
   "cell_type": "code",
   "execution_count": null,
   "metadata": {},
   "outputs": [],
   "source": [
    "a = 1\n",
    "def f(g):\n",
    "    a = 2\n",
    "    return lambda y: a * g(y)\n",
    "\n",
    "f(lambda y: a + y)(a)"
   ]
  },
  {
   "cell_type": "code",
   "execution_count": null,
   "metadata": {},
   "outputs": [],
   "source": [
    "4 6 11 9"
   ]
  },
  {
   "cell_type": "code",
   "execution_count": 1,
   "metadata": {},
   "outputs": [
    {
     "data": {
      "text/plain": [
       "False"
      ]
     },
     "execution_count": 1,
     "metadata": {},
     "output_type": "execute_result"
    }
   ],
   "source": [
    "s = [7//3, 5, [4, 0, 1], 2]\n",
    "4 in s"
   ]
  },
  {
   "cell_type": "code",
   "execution_count": 2,
   "metadata": {},
   "outputs": [
    {
     "data": {
      "text/plain": [
       "3"
      ]
     },
     "execution_count": 2,
     "metadata": {},
     "output_type": "execute_result"
    }
   ],
   "source": [
    "range(4)[-1]"
   ]
  },
  {
   "cell_type": "code",
   "execution_count": 3,
   "metadata": {},
   "outputs": [
    {
     "name": "stdout",
     "output_type": "stream",
     "text": [
      "3\n",
      "32\n",
      "321\n",
      "32\n",
      "3\n"
     ]
    }
   ],
   "source": [
    "def inverse_cascade(n):\n",
    "    grow(n)\n",
    "    print(n)\n",
    "    shrink(n)\n",
    "\n",
    "def f_then_g(f, g, n):\n",
    "    if n:\n",
    "        f(n)\n",
    "        g(n)\n",
    "\n",
    "grow = lambda n: f_then_g(grow, print, n // 10)\n",
    "shrink = lambda n: f_then_g(print, shrink, n // 10)\n",
    "\n",
    "inverse_cascade(321)"
   ]
  },
  {
   "cell_type": "code",
   "execution_count": 7,
   "metadata": {},
   "outputs": [
    {
     "data": {
      "text/plain": [
       "1134903170"
      ]
     },
     "execution_count": 7,
     "metadata": {},
     "output_type": "execute_result"
    }
   ],
   "source": [
    "\n",
    "def fib(n):\n",
    "    if n == 0:\n",
    "        return 0\n",
    "    elif n == 1:\n",
    "        return 1\n",
    "    else:\n",
    "        return fib(n-2) + fib(n-1)\n",
    "    \n",
    "fib(45)"
   ]
  },
  {
   "cell_type": "code",
   "execution_count": 2,
   "metadata": {},
   "outputs": [
    {
     "name": "stderr",
     "output_type": "stream",
     "text": [
      "C:\\Users\\Admin\\AppData\\Local\\Temp\\ipykernel_21788\\2008281046.py:32: UserWarning: Glyph 31449 (\\N{CJK UNIFIED IDEOGRAPH-7AD9}) missing from font(s) DejaVu Sans.\n",
      "  plt.tight_layout() #自动调整子图参数,使之填充整个图像区域\n",
      "C:\\Users\\Admin\\AppData\\Local\\Temp\\ipykernel_21788\\2008281046.py:32: UserWarning: Glyph 28857 (\\N{CJK UNIFIED IDEOGRAPH-70B9}) missing from font(s) DejaVu Sans.\n",
      "  plt.tight_layout() #自动调整子图参数,使之填充整个图像区域\n",
      "C:\\Users\\Admin\\AppData\\Local\\Temp\\ipykernel_21788\\2008281046.py:32: UserWarning: Glyph 21517 (\\N{CJK UNIFIED IDEOGRAPH-540D}) missing from font(s) DejaVu Sans.\n",
      "  plt.tight_layout() #自动调整子图参数,使之填充整个图像区域\n",
      "C:\\Users\\Admin\\AppData\\Local\\Temp\\ipykernel_21788\\2008281046.py:32: UserWarning: Glyph 31216 (\\N{CJK UNIFIED IDEOGRAPH-79F0}) missing from font(s) DejaVu Sans.\n",
      "  plt.tight_layout() #自动调整子图参数,使之填充整个图像区域\n",
      "C:\\Users\\Admin\\AppData\\Local\\Temp\\ipykernel_21788\\2008281046.py:32: UserWarning: Glyph 20986 (\\N{CJK UNIFIED IDEOGRAPH-51FA}) missing from font(s) DejaVu Sans.\n",
      "  plt.tight_layout() #自动调整子图参数,使之填充整个图像区域\n",
      "C:\\Users\\Admin\\AppData\\Local\\Temp\\ipykernel_21788\\2008281046.py:32: UserWarning: Glyph 29616 (\\N{CJK UNIFIED IDEOGRAPH-73B0}) missing from font(s) DejaVu Sans.\n",
      "  plt.tight_layout() #自动调整子图参数,使之填充整个图像区域\n",
      "C:\\Users\\Admin\\AppData\\Local\\Temp\\ipykernel_21788\\2008281046.py:32: UserWarning: Glyph 27425 (\\N{CJK UNIFIED IDEOGRAPH-6B21}) missing from font(s) DejaVu Sans.\n",
      "  plt.tight_layout() #自动调整子图参数,使之填充整个图像区域\n",
      "C:\\Users\\Admin\\AppData\\Local\\Temp\\ipykernel_21788\\2008281046.py:32: UserWarning: Glyph 25968 (\\N{CJK UNIFIED IDEOGRAPH-6570}) missing from font(s) DejaVu Sans.\n",
      "  plt.tight_layout() #自动调整子图参数,使之填充整个图像区域\n",
      "C:\\Users\\Admin\\AppData\\Local\\Temp\\ipykernel_21788\\2008281046.py:32: UserWarning: Glyph 25490 (\\N{CJK UNIFIED IDEOGRAPH-6392}) missing from font(s) DejaVu Sans.\n",
      "  plt.tight_layout() #自动调整子图参数,使之填充整个图像区域\n",
      "C:\\Users\\Admin\\AppData\\Local\\Temp\\ipykernel_21788\\2008281046.py:32: UserWarning: Glyph 21069 (\\N{CJK UNIFIED IDEOGRAPH-524D}) missing from font(s) DejaVu Sans.\n",
      "  plt.tight_layout() #自动调整子图参数,使之填充整个图像区域\n",
      "C:\\Users\\Admin\\AppData\\Local\\Temp\\ipykernel_21788\\2008281046.py:32: UserWarning: Glyph 20116 (\\N{CJK UNIFIED IDEOGRAPH-4E94}) missing from font(s) DejaVu Sans.\n",
      "  plt.tight_layout() #自动调整子图参数,使之填充整个图像区域\n",
      "C:\\Users\\Admin\\AppData\\Local\\Temp\\ipykernel_21788\\2008281046.py:32: UserWarning: Glyph 30340 (\\N{CJK UNIFIED IDEOGRAPH-7684}) missing from font(s) DejaVu Sans.\n",
      "  plt.tight_layout() #自动调整子图参数,使之填充整个图像区域\n",
      "C:\\Users\\Admin\\AppData\\Local\\Temp\\ipykernel_21788\\2008281046.py:32: UserWarning: Glyph 21457 (\\N{CJK UNIFIED IDEOGRAPH-53D1}) missing from font(s) DejaVu Sans.\n",
      "  plt.tight_layout() #自动调整子图参数,使之填充整个图像区域\n",
      "C:\\Users\\Admin\\AppData\\Roaming\\Python\\Python311\\site-packages\\IPython\\core\\pylabtools.py:170: UserWarning: Glyph 20986 (\\N{CJK UNIFIED IDEOGRAPH-51FA}) missing from font(s) DejaVu Sans.\n",
      "  fig.canvas.print_figure(bytes_io, **kw)\n",
      "C:\\Users\\Admin\\AppData\\Roaming\\Python\\Python311\\site-packages\\IPython\\core\\pylabtools.py:170: UserWarning: Glyph 29616 (\\N{CJK UNIFIED IDEOGRAPH-73B0}) missing from font(s) DejaVu Sans.\n",
      "  fig.canvas.print_figure(bytes_io, **kw)\n",
      "C:\\Users\\Admin\\AppData\\Roaming\\Python\\Python311\\site-packages\\IPython\\core\\pylabtools.py:170: UserWarning: Glyph 27425 (\\N{CJK UNIFIED IDEOGRAPH-6B21}) missing from font(s) DejaVu Sans.\n",
      "  fig.canvas.print_figure(bytes_io, **kw)\n",
      "C:\\Users\\Admin\\AppData\\Roaming\\Python\\Python311\\site-packages\\IPython\\core\\pylabtools.py:170: UserWarning: Glyph 25968 (\\N{CJK UNIFIED IDEOGRAPH-6570}) missing from font(s) DejaVu Sans.\n",
      "  fig.canvas.print_figure(bytes_io, **kw)\n",
      "C:\\Users\\Admin\\AppData\\Roaming\\Python\\Python311\\site-packages\\IPython\\core\\pylabtools.py:170: UserWarning: Glyph 25490 (\\N{CJK UNIFIED IDEOGRAPH-6392}) missing from font(s) DejaVu Sans.\n",
      "  fig.canvas.print_figure(bytes_io, **kw)\n",
      "C:\\Users\\Admin\\AppData\\Roaming\\Python\\Python311\\site-packages\\IPython\\core\\pylabtools.py:170: UserWarning: Glyph 21517 (\\N{CJK UNIFIED IDEOGRAPH-540D}) missing from font(s) DejaVu Sans.\n",
      "  fig.canvas.print_figure(bytes_io, **kw)\n",
      "C:\\Users\\Admin\\AppData\\Roaming\\Python\\Python311\\site-packages\\IPython\\core\\pylabtools.py:170: UserWarning: Glyph 21069 (\\N{CJK UNIFIED IDEOGRAPH-524D}) missing from font(s) DejaVu Sans.\n",
      "  fig.canvas.print_figure(bytes_io, **kw)\n",
      "C:\\Users\\Admin\\AppData\\Roaming\\Python\\Python311\\site-packages\\IPython\\core\\pylabtools.py:170: UserWarning: Glyph 20116 (\\N{CJK UNIFIED IDEOGRAPH-4E94}) missing from font(s) DejaVu Sans.\n",
      "  fig.canvas.print_figure(bytes_io, **kw)\n",
      "C:\\Users\\Admin\\AppData\\Roaming\\Python\\Python311\\site-packages\\IPython\\core\\pylabtools.py:170: UserWarning: Glyph 30340 (\\N{CJK UNIFIED IDEOGRAPH-7684}) missing from font(s) DejaVu Sans.\n",
      "  fig.canvas.print_figure(bytes_io, **kw)\n",
      "C:\\Users\\Admin\\AppData\\Roaming\\Python\\Python311\\site-packages\\IPython\\core\\pylabtools.py:170: UserWarning: Glyph 21457 (\\N{CJK UNIFIED IDEOGRAPH-53D1}) missing from font(s) DejaVu Sans.\n",
      "  fig.canvas.print_figure(bytes_io, **kw)\n",
      "C:\\Users\\Admin\\AppData\\Roaming\\Python\\Python311\\site-packages\\IPython\\core\\pylabtools.py:170: UserWarning: Glyph 31449 (\\N{CJK UNIFIED IDEOGRAPH-7AD9}) missing from font(s) DejaVu Sans.\n",
      "  fig.canvas.print_figure(bytes_io, **kw)\n",
      "C:\\Users\\Admin\\AppData\\Roaming\\Python\\Python311\\site-packages\\IPython\\core\\pylabtools.py:170: UserWarning: Glyph 28857 (\\N{CJK UNIFIED IDEOGRAPH-70B9}) missing from font(s) DejaVu Sans.\n",
      "  fig.canvas.print_figure(bytes_io, **kw)\n",
      "C:\\Users\\Admin\\AppData\\Roaming\\Python\\Python311\\site-packages\\IPython\\core\\pylabtools.py:170: UserWarning: Glyph 31216 (\\N{CJK UNIFIED IDEOGRAPH-79F0}) missing from font(s) DejaVu Sans.\n",
      "  fig.canvas.print_figure(bytes_io, **kw)\n"
     ]
    },
    {
     "data": {
      "image/png": "[encoded data removed]",
      "text/plain": [
       "<Figure size 1000x600 with 1 Axes>"
      ]
     },
     "metadata": {},
     "output_type": "display_data"
    },
    {
     "name": "stderr",
     "output_type": "stream",
     "text": [
      "C:\\Users\\Admin\\AppData\\Local\\Temp\\ipykernel_21788\\2008281046.py:47: UserWarning: Glyph 31449 (\\N{CJK UNIFIED IDEOGRAPH-7AD9}) missing from font(s) DejaVu Sans.\n",
      "  plt.tight_layout() #自动调整子图参数,使之填充整个图像区域\n",
      "C:\\Users\\Admin\\AppData\\Local\\Temp\\ipykernel_21788\\2008281046.py:47: UserWarning: Glyph 28857 (\\N{CJK UNIFIED IDEOGRAPH-70B9}) missing from font(s) DejaVu Sans.\n",
      "  plt.tight_layout() #自动调整子图参数,使之填充整个图像区域\n",
      "C:\\Users\\Admin\\AppData\\Local\\Temp\\ipykernel_21788\\2008281046.py:47: UserWarning: Glyph 21517 (\\N{CJK UNIFIED IDEOGRAPH-540D}) missing from font(s) DejaVu Sans.\n",
      "  plt.tight_layout() #自动调整子图参数,使之填充整个图像区域\n",
      "C:\\Users\\Admin\\AppData\\Local\\Temp\\ipykernel_21788\\2008281046.py:47: UserWarning: Glyph 31216 (\\N{CJK UNIFIED IDEOGRAPH-79F0}) missing from font(s) DejaVu Sans.\n",
      "  plt.tight_layout() #自动调整子图参数,使之填充整个图像区域\n",
      "C:\\Users\\Admin\\AppData\\Local\\Temp\\ipykernel_21788\\2008281046.py:47: UserWarning: Glyph 20986 (\\N{CJK UNIFIED IDEOGRAPH-51FA}) missing from font(s) DejaVu Sans.\n",
      "  plt.tight_layout() #自动调整子图参数,使之填充整个图像区域\n",
      "C:\\Users\\Admin\\AppData\\Local\\Temp\\ipykernel_21788\\2008281046.py:47: UserWarning: Glyph 29616 (\\N{CJK UNIFIED IDEOGRAPH-73B0}) missing from font(s) DejaVu Sans.\n",
      "  plt.tight_layout() #自动调整子图参数,使之填充整个图像区域\n",
      "C:\\Users\\Admin\\AppData\\Local\\Temp\\ipykernel_21788\\2008281046.py:47: UserWarning: Glyph 27425 (\\N{CJK UNIFIED IDEOGRAPH-6B21}) missing from font(s) DejaVu Sans.\n",
      "  plt.tight_layout() #自动调整子图参数,使之填充整个图像区域\n",
      "C:\\Users\\Admin\\AppData\\Local\\Temp\\ipykernel_21788\\2008281046.py:47: UserWarning: Glyph 25968 (\\N{CJK UNIFIED IDEOGRAPH-6570}) missing from font(s) DejaVu Sans.\n",
      "  plt.tight_layout() #自动调整子图参数,使之填充整个图像区域\n",
      "C:\\Users\\Admin\\AppData\\Local\\Temp\\ipykernel_21788\\2008281046.py:47: UserWarning: Glyph 25490 (\\N{CJK UNIFIED IDEOGRAPH-6392}) missing from font(s) DejaVu Sans.\n",
      "  plt.tight_layout() #自动调整子图参数,使之填充整个图像区域\n",
      "C:\\Users\\Admin\\AppData\\Local\\Temp\\ipykernel_21788\\2008281046.py:47: UserWarning: Glyph 21069 (\\N{CJK UNIFIED IDEOGRAPH-524D}) missing from font(s) DejaVu Sans.\n",
      "  plt.tight_layout() #自动调整子图参数,使之填充整个图像区域\n",
      "C:\\Users\\Admin\\AppData\\Local\\Temp\\ipykernel_21788\\2008281046.py:47: UserWarning: Glyph 20116 (\\N{CJK UNIFIED IDEOGRAPH-4E94}) missing from font(s) DejaVu Sans.\n",
      "  plt.tight_layout() #自动调整子图参数,使之填充整个图像区域\n",
      "C:\\Users\\Admin\\AppData\\Local\\Temp\\ipykernel_21788\\2008281046.py:47: UserWarning: Glyph 30340 (\\N{CJK UNIFIED IDEOGRAPH-7684}) missing from font(s) DejaVu Sans.\n",
      "  plt.tight_layout() #自动调整子图参数,使之填充整个图像区域\n",
      "C:\\Users\\Admin\\AppData\\Local\\Temp\\ipykernel_21788\\2008281046.py:47: UserWarning: Glyph 21457 (\\N{CJK UNIFIED IDEOGRAPH-53D1}) missing from font(s) DejaVu Sans.\n",
      "  plt.tight_layout() #自动调整子图参数,使之填充整个图像区域\n",
      "C:\\Users\\Admin\\AppData\\Roaming\\Python\\Python311\\site-packages\\IPython\\core\\pylabtools.py:170: UserWarning: Glyph 20986 (\\N{CJK UNIFIED IDEOGRAPH-51FA}) missing from font(s) DejaVu Sans.\n",
      "  fig.canvas.print_figure(bytes_io, **kw)\n",
      "C:\\Users\\Admin\\AppData\\Roaming\\Python\\Python311\\site-packages\\IPython\\core\\pylabtools.py:170: UserWarning: Glyph 29616 (\\N{CJK UNIFIED IDEOGRAPH-73B0}) missing from font(s) DejaVu Sans.\n",
      "  fig.canvas.print_figure(bytes_io, **kw)\n",
      "C:\\Users\\Admin\\AppData\\Roaming\\Python\\Python311\\site-packages\\IPython\\core\\pylabtools.py:170: UserWarning: Glyph 27425 (\\N{CJK UNIFIED IDEOGRAPH-6B21}) missing from font(s) DejaVu Sans.\n",
      "  fig.canvas.print_figure(bytes_io, **kw)\n",
      "C:\\Users\\Admin\\AppData\\Roaming\\Python\\Python311\\site-packages\\IPython\\core\\pylabtools.py:170: UserWarning: Glyph 25968 (\\N{CJK UNIFIED IDEOGRAPH-6570}) missing from font(s) DejaVu Sans.\n",
      "  fig.canvas.print_figure(bytes_io, **kw)\n",
      "C:\\Users\\Admin\\AppData\\Roaming\\Python\\Python311\\site-packages\\IPython\\core\\pylabtools.py:170: UserWarning: Glyph 25490 (\\N{CJK UNIFIED IDEOGRAPH-6392}) missing from font(s) DejaVu Sans.\n",
      "  fig.canvas.print_figure(bytes_io, **kw)\n",
      "C:\\Users\\Admin\\AppData\\Roaming\\Python\\Python311\\site-packages\\IPython\\core\\pylabtools.py:170: UserWarning: Glyph 21517 (\\N{CJK UNIFIED IDEOGRAPH-540D}) missing from font(s) DejaVu Sans.\n",
      "  fig.canvas.print_figure(bytes_io, **kw)\n",
      "C:\\Users\\Admin\\AppData\\Roaming\\Python\\Python311\\site-packages\\IPython\\core\\pylabtools.py:170: UserWarning: Glyph 21069 (\\N{CJK UNIFIED IDEOGRAPH-524D}) missing from font(s) DejaVu Sans.\n",
      "  fig.canvas.print_figure(bytes_io, **kw)\n",
      "C:\\Users\\Admin\\AppData\\Roaming\\Python\\Python311\\site-packages\\IPython\\core\\pylabtools.py:170: UserWarning: Glyph 20116 (\\N{CJK UNIFIED IDEOGRAPH-4E94}) missing from font(s) DejaVu Sans.\n",
      "  fig.canvas.print_figure(bytes_io, **kw)\n",
      "C:\\Users\\Admin\\AppData\\Roaming\\Python\\Python311\\site-packages\\IPython\\core\\pylabtools.py:170: UserWarning: Glyph 30340 (\\N{CJK UNIFIED IDEOGRAPH-7684}) missing from font(s) DejaVu Sans.\n",
      "  fig.canvas.print_figure(bytes_io, **kw)\n",
      "C:\\Users\\Admin\\AppData\\Roaming\\Python\\Python311\\site-packages\\IPython\\core\\pylabtools.py:170: UserWarning: Glyph 21457 (\\N{CJK UNIFIED IDEOGRAPH-53D1}) missing from font(s) DejaVu Sans.\n",
      "  fig.canvas.print_figure(bytes_io, **kw)\n",
      "C:\\Users\\Admin\\AppData\\Roaming\\Python\\Python311\\site-packages\\IPython\\core\\pylabtools.py:170: UserWarning: Glyph 31449 (\\N{CJK UNIFIED IDEOGRAPH-7AD9}) missing from font(s) DejaVu Sans.\n",
      "  fig.canvas.print_figure(bytes_io, **kw)\n",
      "C:\\Users\\Admin\\AppData\\Roaming\\Python\\Python311\\site-packages\\IPython\\core\\pylabtools.py:170: UserWarning: Glyph 28857 (\\N{CJK UNIFIED IDEOGRAPH-70B9}) missing from font(s) DejaVu Sans.\n",
      "  fig.canvas.print_figure(bytes_io, **kw)\n",
      "C:\\Users\\Admin\\AppData\\Roaming\\Python\\Python311\\site-packages\\IPython\\core\\pylabtools.py:170: UserWarning: Glyph 31216 (\\N{CJK UNIFIED IDEOGRAPH-79F0}) missing from font(s) DejaVu Sans.\n",
      "  fig.canvas.print_figure(bytes_io, **kw)\n"
     ]
    },
    {
     "data": {
      "image/png": "[encoded data removed]",
      "text/plain": [
       "<Figure size 1000x600 with 1 Axes>"
      ]
     },
     "metadata": {},
     "output_type": "display_data"
    },
    {
     "name": "stdout",
     "output_type": "stream",
     "text": [
      "                 ride_id  rideable_type               started_at  \\\n",
      "40      11F67858FAD8BF9C   classic_bike  2025-01-19 14:49:36.281   \n",
      "571     8F378E1EFE92888F   classic_bike  2025-01-01 17:10:22.605   \n",
      "574     C0D204E346AF00CB  electric_bike  2025-01-03 17:57:08.660   \n",
      "575     FEB486CD6CE6B636  electric_bike  2025-01-03 17:56:00.528   \n",
      "629     3C6AE83E00BC70D0  electric_bike  2025-01-30 15:36:38.311   \n",
      "...                  ...            ...                      ...   \n",
      "282257  803DF1E5484877C1   classic_bike  2025-01-11 14:02:34.855   \n",
      "282433  6FC8D7C31F7EBC2C   classic_bike  2025-01-08 16:53:26.871   \n",
      "282622  B1AE53176E95C8A7  electric_bike  2025-01-03 15:07:42.836   \n",
      "282630  908677BB4C29514B  electric_bike  2025-01-17 19:33:42.022   \n",
      "282732  161D459C77A4F8E5  electric_bike  2025-01-20 19:26:06.617   \n",
      "\n",
      "                       ended_at           start_station_name start_station_id  \\\n",
      "40      2025-01-19 15:05:41.596    Haste St at Telegraph Ave          BK-E9-2   \n",
      "571     2025-01-01 17:21:22.313    Haste St at Telegraph Ave          BK-E9-2   \n",
      "574     2025-01-03 18:32:33.808  Bancroft Way at College Ave           BK-D10   \n",
      "575     2025-01-03 18:32:36.187  Bancroft Way at College Ave           BK-D10   \n",
      "629     2025-01-30 15:46:16.573  Bancroft Way at College Ave           BK-D10   \n",
      "...                         ...                          ...              ...   \n",
      "282257  2025-01-11 14:11:01.033    Russell St at College Ave           BK-H10   \n",
      "282433  2025-01-08 17:07:07.032   Telegraph Ave at Ashby Ave            BK-H9   \n",
      "282622  2025-01-03 15:22:33.919   Telegraph Ave at Ashby Ave            BK-H9   \n",
      "282630  2025-01-17 19:45:47.970               San Pablo Park            BK-G4   \n",
      "282732  2025-01-20 19:35:27.172        Ninth St at Heinz Ave            BK-H3   \n",
      "\n",
      "                 end_station_name end_station_id  start_lat   start_lng  \\\n",
      "40        Shattuck Ave at 55th St        OK-D3-1  37.866043 -122.258804   \n",
      "571       Shattuck Ave at 55th St        OK-D3-1  37.866043 -122.258804   \n",
      "574            Jack London Square          OK-N5  37.869394 -122.254330   \n",
      "575            Jack London Square          OK-N5  37.869394 -122.254330   \n",
      "629     College Ave at Bryant Ave          OK-C5  37.869394 -122.254330   \n",
      "...                           ...            ...        ...         ...   \n",
      "282257   55th St at Telegraph Ave          OK-C3  37.858473 -122.253253   \n",
      "282433    40th St at Piedmont Ave          OK-F6  37.855956 -122.259795   \n",
      "282622    40th St at Piedmont Ave          OK-F6  37.855956 -122.259795   \n",
      "282630   55th St at Telegraph Ave          OK-C3  37.855783 -122.283127   \n",
      "282732       53rd St at Hollis St          EM-C2  37.852998 -122.289446   \n",
      "\n",
      "          end_lat     end_lng member_casual  \n",
      "40      37.840364 -122.264488        member  \n",
      "571     37.840364 -122.264488        casual  \n",
      "574     37.796248 -122.279352        casual  \n",
      "575     37.796248 -122.279352        casual  \n",
      "629     37.838127 -122.251271        casual  \n",
      "...           ...         ...           ...  \n",
      "282257  37.840186 -122.261822        member  \n",
      "282433  37.825785 -122.253470        casual  \n",
      "282622  37.825785 -122.253470        member  \n",
      "282630  37.840186 -122.261822        member  \n",
      "282732  37.836182 -122.287180        casual  \n",
      "\n",
      "[8774 rows x 13 columns]\n"
     ]
    }
   ],
   "source": [
    "import pandas as pd\n",
    "import matplotlib.pyplot as plt\n",
    "\n",
    "# 设置文件路径\n",
    "file_path = r\"C:\\Users\\Admin\\Downloads\\202501-baywheels-tripdata.csv\\202501-baywheels-tripdata.csv\"\n",
    "\n",
    "# 读取CSV文件\n",
    "try:\n",
    "    df = pd.read_csv(file_path)\n",
    "except FileNotFoundError:\n",
    "    print(f\"错误：文件 '{file_path}' 未找到。请检查文件路径是否正确。\")\n",
    "    exit()\n",
    "except Exception as e:\n",
    "    print(f\"读取文件时发生错误：{e}\")\n",
    "    exit()\n",
    "\n",
    "# 筛选出符合条件的记录\n",
    "filtered_df = df[df['start_station_id'].astype(str).str.startswith('BK') | df['end_station_id'].astype(str).str.startswith('BK')]\n",
    "# 统计start_station_name出现次数\n",
    "start_station_counts = filtered_df['start_station_name'].value_counts()\n",
    "\n",
    "# 取排名前五的站点\n",
    "top_5_stations = start_station_counts.head(5)\n",
    "\n",
    "# 绘制柱状图\n",
    "plt.figure(figsize=(10, 6))\n",
    "plt.bar(top_5_stations.index, top_5_stations.values)\n",
    "plt.xlabel('站点名称')\n",
    "plt.ylabel('出现次数')\n",
    "plt.title('排名前五的出发站点')\n",
    "plt.xticks(rotation=45, ha='right') # 让X轴的标签旋转45度，更易阅读\n",
    "plt.tight_layout() #自动调整子图参数,使之填充整个图像区域\n",
    "plt.show()\n",
    "# 统计start_station_name出现次数\n",
    "start_station_counts = filtered_df['start_station_name'].value_counts()\n",
    "\n",
    "# 取排名前五的站点\n",
    "top_5_stations = start_station_counts.head(5)\n",
    "\n",
    "# 绘制柱状图\n",
    "plt.figure(figsize=(10, 6))\n",
    "plt.bar(top_5_stations.index, top_5_stations.values)\n",
    "plt.xlabel('站点名称')\n",
    "plt.ylabel('出现次数')\n",
    "plt.title('排名前五的出发站点')\n",
    "plt.xticks(rotation=45, ha='right') # 让X轴的标签旋转45度，更易阅读\n",
    "plt.tight_layout() #自动调整子图参数,使之填充整个图像区域\n",
    "plt.show()\n",
    "\n",
    "# 打印筛选结果\n",
    "print(filtered_df)\n",
    "\n",
    "#如果需要保存结果到新的csv文件，取消注释以下行\n",
    "#filtered_df.to_csv(\"filtered_baywheels_data.csv\", index=False)\n",
    "#print(\"筛选后的数据已保存到 filtered_baywheels_data.csv\")"
   ]
  }
 ],
 "metadata": {
  "kernelspec": {
   "display_name": "Python 3",
   "language": "python",
   "name": "python3"
  },
  "language_info": {
   "codemirror_mode": {
    "name": "ipython",
    "version": 3
   },
   "file_extension": ".py",
   "mimetype": "text/x-python",
   "name": "python",
   "nbconvert_exporter": "python",
   "pygments_lexer": "ipython3",
   "version": "3.11.5"
  }
 },
 "nbformat": 4,
 "nbformat_minor": 2
}
