{
 "cells": [
  {
   "cell_type": "code",
   "execution_count": 4,
   "metadata": {},
   "outputs": [
    {
     "name": "stdout",
     "output_type": "stream",
     "text": [
      "6\n",
      "None\n"
     ]
    }
   ],
   "source": [
    "cat = 3\n",
    "def dog():\n",
    " \treturn cat\n",
    "def hog():\n",
    "\tcat = 4\n",
    "\tprint(cat, dog())\n",
    "cat = 5\n",
    "\n",
    "print((lambda dog: print(dog()))(lambda: 6))"
   ]
  },
  {
   "cell_type": "code",
   "execution_count": 6,
   "metadata": {},
   "outputs": [
    {
     "name": "stdout",
     "output_type": "stream",
     "text": [
      "6\n",
      "None\n"
     ]
    }
   ],
   "source": [
    "print(print(6))"
   ]
  },
  {
   "cell_type": "code",
   "execution_count": 7,
   "metadata": {},
   "outputs": [
    {
     "name": "stdout",
     "output_type": "stream",
     "text": [
      "8\n"
     ]
    },
    {
     "data": {
      "text/plain": [
       "7"
      ]
     },
     "execution_count": 7,
     "metadata": {},
     "output_type": "execute_result"
    }
   ],
   "source": [
    "def mid(nights):\n",
    "\tdays = 7\n",
    "\tif days or nights:\n",
    "\t\tdays, nights = (days and days + 1), (nights or days)\n",
    "\tprint(days)\n",
    "\treturn nights\n",
    "\n",
    "mid(not 'swift')"
   ]
  },
  {
   "cell_type": "code",
   "execution_count": 8,
   "metadata": {},
   "outputs": [
    {
     "data": {
      "text/plain": [
       "False"
      ]
     },
     "execution_count": 8,
     "metadata": {},
     "output_type": "execute_result"
    }
   ],
   "source": [
    "not 'swift'"
   ]
  },
  {
   "cell_type": "code",
   "execution_count": 2,
   "metadata": {},
   "outputs": [],
   "source": [
    "def square(pow):\n",
    "    y = 2\n",
    "    def\t square(x):\n",
    "        pow(x, y)\n",
    "    return square\n",
    "\n",
    "def is_it(square):\n",
    "    y = 0\n",
    "    square(2)\n",
    "\n",
    "is_it(square(lambda x, y: pow(x, y+1)))"
   ]
  },
  {
   "cell_type": "code",
   "execution_count": 3,
   "metadata": {},
   "outputs": [
    {
     "data": {
      "text/plain": [
       "15"
      ]
     },
     "execution_count": 3,
     "metadata": {},
     "output_type": "execute_result"
    }
   ],
   "source": [
    "x, y, z = 1, 2, 3\n",
    "\n",
    "def switch(x):\n",
    "    z = 4\n",
    "    if x == y:\n",
    "        def which(one):\n",
    "            return x + one\n",
    "    else:\n",
    "        def which(one):\n",
    "            return  x - one\n",
    "    x = which(x)\n",
    "    which(x)\n",
    "    \n",
    "def which(one):\n",
    "    return x * one\n",
    "\n",
    "switch(x + 1)\n",
    "x = 5\n",
    "which(z)"
   ]
  },
  {
   "cell_type": "code",
   "execution_count": 4,
   "metadata": {},
   "outputs": [
    {
     "name": "stdout",
     "output_type": "stream",
     "text": [
      "5 6\n",
      "None\n",
      "1\n",
      "8\n",
      "2 7 None\n"
     ]
    }
   ],
   "source": [
    "def mad(max):\n",
    "\tg = lambda:(print(1) or 2) or (print(3) or 4)\n",
    "\tprint(max(5, 6))\n",
    "\treturn g\n",
    "print(mad(print)(), 7, print(8))"
   ]
  },
  {
   "cell_type": "code",
   "execution_count": 5,
   "metadata": {},
   "outputs": [
    {
     "name": "stdout",
     "output_type": "stream",
     "text": [
      "40 50\n",
      "None\n",
      "10\n",
      "20\n",
      "70\n",
      "None 60 None\n"
     ]
    }
   ],
   "source": [
    "def foo(x):\n",
    "    y = lambda: print(10) or (print(20) and print(30))\n",
    "    print(x(40, 50))\n",
    "    return y\n",
    "\n",
    "print(foo(print)(), 60, print(70))"
   ]
  },
  {
   "cell_type": "code",
   "execution_count": 6,
   "metadata": {},
   "outputs": [
    {
     "name": "stdout",
     "output_type": "stream",
     "text": [
      "500 600\n",
      "None\n",
      "100\n",
      "300\n",
      "800\n",
      "400 700 None\n"
     ]
    }
   ],
   "source": [
    "def bar(z):\n",
    "    w = lambda: (print(100) or 200) and (print(300) or 400)\n",
    "    print(z(500, 600))\n",
    "    return w\n",
    "\n",
    "print(bar(print)(), 700, print(800))"
   ]
  },
  {
   "cell_type": "code",
   "execution_count": null,
   "metadata": {},
   "outputs": [],
   "source": [
    "e = 40\n",
    "def glob(e):\n",
    "\tprint(e)\n",
    "\te = e + 1\n",
    "\treturn e\n",
    "\n",
    "def mid(nights):\n",
    "\tdays = 7\n",
    "\tif days or nights:\n",
    "\t\tdays, nights = (days and days + 1), (nights or days)\n",
    "\tprint(days)\n",
    "\treturn nights\n",
    "\n",
    "def special(f, x):\n",
    "\treturn f(x) + f(x)"
   ]
  },
  {
   "cell_type": "code",
   "execution_count": 7,
   "metadata": {},
   "outputs": [
    {
     "data": {
      "text/plain": [
       "25"
      ]
     },
     "execution_count": 7,
     "metadata": {},
     "output_type": "execute_result"
    }
   ],
   "source": [
    "def square(x):\n",
    "    return x * x\n",
    "\n",
    "def make_adder(n):\n",
    "    def adder(k):\n",
    "        return k+n\n",
    "    return adder\n",
    "\n",
    "def compose1(f, g):\n",
    "    def h(x):\n",
    "        return f(g(x))\n",
    "    return h\n",
    "\n",
    "compose1(square, make_adder(2))(3)"
   ]
  },
  {
   "cell_type": "code",
   "execution_count": null,
   "metadata": {},
   "outputs": [],
   "source": [
    "a = 1\n",
    "def f(g):\n",
    "    a = 2\n",
    "    return lambda y: a * g(y)\n",
    "\n",
    "f(lambda y: a + y)(a)"
   ]
  }
 ],
 "metadata": {
  "kernelspec": {
   "display_name": "Python 3",
   "language": "python",
   "name": "python3"
  },
  "language_info": {
   "codemirror_mode": {
    "name": "ipython",
    "version": 3
   },
   "file_extension": ".py",
   "mimetype": "text/x-python",
   "name": "python",
   "nbconvert_exporter": "python",
   "pygments_lexer": "ipython3",
   "version": "3.11.5"
  }
 },
 "nbformat": 4,
 "nbformat_minor": 2
}
