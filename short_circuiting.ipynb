{
 "cells": [
  {
   "cell_type": "code",
   "execution_count": 8,
   "metadata": {},
   "outputs": [
    {
     "data": {
      "text/plain": [
       "15"
      ]
     },
     "execution_count": 8,
     "metadata": {},
     "output_type": "execute_result"
    }
   ],
   "source": [
    "x, y, z = 1, 2, 3\n",
    "def switch(x):\n",
    "\tz = 4\n",
    "if x == y:\n",
    "\tdef which(one):\n",
    "\t\treturn x + one\n",
    "else:\n",
    "\tdef which(one):\n",
    "\t\treturn x - one\n",
    "\tx = which(x)\n",
    "\twhich(x)\n",
    "def which(one):\n",
    "\treturn x * one\n",
    "switch(x + 1)\n",
    "x = 5\n",
    "which(z)\n"
   ]
  }
 ],
 "metadata": {
  "kernelspec": {
   "display_name": "Python 3",
   "language": "python",
   "name": "python3"
  },
  "language_info": {
   "codemirror_mode": {
    "name": "ipython",
    "version": 3
   },
   "file_extension": ".py",
   "mimetype": "text/x-python",
   "name": "python",
   "nbconvert_exporter": "python",
   "pygments_lexer": "ipython3",
   "version": "3.11.5"
  }
 },
 "nbformat": 4,
 "nbformat_minor": 2
}
